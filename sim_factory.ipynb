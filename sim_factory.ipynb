{
 "cells": [
  {
   "cell_type": "code",
   "execution_count": 1,
   "metadata": {},
   "outputs": [],
   "source": [
    "from ab_initio_sim import CampaignSimulator\n",
    "from sim_parameters import base_parameters, parameter_ranges, hyperparameter_ranges"
   ]
  },
  {
   "cell_type": "code",
   "execution_count": 2,
   "metadata": {},
   "outputs": [],
   "source": [
    "import json\n",
    "import hashlib\n",
    "from random import choice\n",
    "import pickle\n",
    "import os\n",
    "import glob\n",
    "\n",
    "extracted_parameters_folder = 'extracted_parameters'\n",
    "sims_folder = 'sims'"
   ]
  },
  {
   "cell_type": "code",
   "execution_count": 3,
   "metadata": {},
   "outputs": [
    {
     "name": "stdout",
     "output_type": "stream",
     "text": [
      "Writing file extracted_parameters/b720ee7ba6c6380939bbf16004c2c404.pkl\n",
      "Writing file extracted_parameters/551c1747373eecf12b33ab2290bea15a.pkl\n",
      "Writing file extracted_parameters/e11ad9d407bbabd70cffb9ec940ff286.pkl\n",
      "Writing file extracted_parameters/8324acd49ada0fa1511564206ca946c1.pkl\n",
      "Writing file extracted_parameters/e8f5cdfc09e99959ede4a650d646d2ec.pkl\n",
      "Writing file extracted_parameters/a998c81783db606efd0253c3360bac86.pkl\n",
      "Writing file extracted_parameters/a3e762c19da13effa0815369efa181f6.pkl\n",
      "Writing file extracted_parameters/9b85e2815612a4ba5f24737c2d38abdc.pkl\n",
      "Writing file extracted_parameters/6c42aaf7ffb0cfa4c92fe3c886ddddc3.pkl\n",
      "Writing file extracted_parameters/4183b6248d30a6e7bebac70707a1a200.pkl\n",
      "Writing file extracted_parameters/4430e7776aab483c69d4455fbead5187.pkl\n",
      "Writing file extracted_parameters/d120287d5fc2ee9b8067bacfc5f38282.pkl\n",
      "Writing file extracted_parameters/0bc91b0fd7b1e18a62f9234a7ace1874.pkl\n",
      "Writing file extracted_parameters/78dbc8b072bcc35f1b361249d1d427ec.pkl\n",
      "Writing file extracted_parameters/30db5dbaa5f9808bf464c6c4042d3c35.pkl\n",
      "Writing file extracted_parameters/c3790204ac1252da8ba4f454d66b2543.pkl\n",
      "Writing file extracted_parameters/763408a11f45c88fd402736e28e547c0.pkl\n",
      "Writing file extracted_parameters/6e95aa326f136a4bde08a99852c5fa02.pkl\n",
      "Writing file extracted_parameters/0ecda3dca8333ec953191c49ab3a1a7e.pkl\n",
      "Writing file extracted_parameters/c76936f55892440b5e7d57ac0fe7f326.pkl\n"
     ]
    }
   ],
   "source": [
    "# How many parameters combinations we want to generate\n",
    "num_combinations = 20\n",
    "\n",
    "if not os.path.exists(extracted_parameters_folder):\n",
    "    os.mkdir(extracted_parameters_folder)\n",
    "\n",
    "for _ in range(num_combinations):\n",
    "    \n",
    "    # Dictionary of parameters for this combination\n",
    "    actual = {}\n",
    "    \n",
    "    # First choose hyperparameters\n",
    "    for hp, value_list in hyperparameter_ranges.items():\n",
    "        actual[hp] = choice(value_list)\n",
    "    \n",
    "    actual['parameters'] = {}\n",
    "        \n",
    "    for i in range(actual['n_campaigns']):\n",
    "        campaign_id = str(i)\n",
    "\n",
    "        # Dictionary of parameters for the campaign\n",
    "        actual['parameters'][campaign_id] = {}  # structure: adgroup_id -> adgroup_parameters\n",
    "        \n",
    "        for j in range(actual['n_adgroups_per_campaign']):\n",
    "            adgroup_id = str(j)\n",
    "            # Dictionary for the extracted parameters of the ad group\n",
    "            actual_parameters = {}\n",
    "            # Extracting parameters:\n",
    "            for param, value_list in parameter_ranges.items():\n",
    "                actual_parameters[param] = choice(value_list)\n",
    "            # Choosing non-extracted ones:\n",
    "            for param, val in base_parameters.items():\n",
    "                if param not in actual_parameters:\n",
    "                    actual_parameters[param] = val\n",
    "            \n",
    "            actual['parameters'][campaign_id][adgroup_id] = actual_parameters\n",
    "\n",
    "    # Converting the parameters of this combination to json...\n",
    "    name_hash = json.dumps(actual, default=str)\n",
    "    # ... to associate a unique hash\n",
    "    name_hash = hashlib.md5(name_hash.encode()).hexdigest()\n",
    "    \n",
    "    params_path = os.path.join(extracted_parameters_folder, name_hash + '.pkl')  \n",
    "\n",
    "    with open(params_path, 'wb') as file:\n",
    "        print('Writing file {}'.format(params_path))\n",
    "        pickle.dump(actual, file)"
   ]
  },
  {
   "cell_type": "code",
   "execution_count": 4,
   "metadata": {},
   "outputs": [
    {
     "name": "stdout",
     "output_type": "stream",
     "text": [
      "Writing file sims/30db5dbaa5f9808bf464c6c4042d3c35.pkl\n",
      "Writing file sims/a998c81783db606efd0253c3360bac86.pkl\n",
      "Writing file sims/0bc91b0fd7b1e18a62f9234a7ace1874.pkl\n",
      "Writing file sims/8324acd49ada0fa1511564206ca946c1.pkl\n",
      "Writing file sims/78dbc8b072bcc35f1b361249d1d427ec.pkl\n",
      "Writing file sims/4430e7776aab483c69d4455fbead5187.pkl\n",
      "Writing file sims/e11ad9d407bbabd70cffb9ec940ff286.pkl\n",
      "Writing file sims/c76936f55892440b5e7d57ac0fe7f326.pkl\n",
      "Writing file sims/0ecda3dca8333ec953191c49ab3a1a7e.pkl\n",
      "Writing file sims/551c1747373eecf12b33ab2290bea15a.pkl\n",
      "Writing file sims/c3790204ac1252da8ba4f454d66b2543.pkl\n",
      "Writing file sims/d120287d5fc2ee9b8067bacfc5f38282.pkl\n",
      "Writing file sims/b720ee7ba6c6380939bbf16004c2c404.pkl\n",
      "Writing file sims/763408a11f45c88fd402736e28e547c0.pkl\n",
      "Writing file sims/9b85e2815612a4ba5f24737c2d38abdc.pkl\n",
      "Writing file sims/6e95aa326f136a4bde08a99852c5fa02.pkl\n",
      "Writing file sims/e8f5cdfc09e99959ede4a650d646d2ec.pkl\n",
      "Writing file sims/4183b6248d30a6e7bebac70707a1a200.pkl\n",
      "Writing file sims/6c42aaf7ffb0cfa4c92fe3c886ddddc3.pkl\n",
      "Writing file sims/a3e762c19da13effa0815369efa181f6.pkl\n"
     ]
    }
   ],
   "source": [
    "# Convert dictionaries of parameters to dictionaries of CampaignSimulator objects\n",
    "\n",
    "if not os.path.exists(sims_folder):\n",
    "    os.mkdir(sims_folder)\n",
    "    \n",
    "param_paths = glob.glob(os.path.join(extracted_parameters_folder, '*.pkl'))\n",
    "\n",
    "for param_path in param_paths:\n",
    "    \n",
    "    with open(param_path, 'rb') as file:\n",
    "        params = pickle.load(file)\n",
    "        \n",
    "    sims = {}\n",
    "    for campaign_id in params['parameters'].keys():\n",
    "        sim = CampaignSimulator(params['parameters'][campaign_id], params['lost_is_noise'])\n",
    "        sims[campaign_id] = sim\n",
    "    \n",
    "    name_hash = os.path.basename(param_path)\n",
    "    sims_path = os.path.join(sims_folder, name_hash)\n",
    "    \n",
    "    with open(sims_path, 'wb') as file:\n",
    "        print('Writing file {}'.format(sims_path))\n",
    "        pickle.dump(sims, file)"
   ]
  },
  {
   "cell_type": "code",
   "execution_count": 4,
   "metadata": {},
   "outputs": [],
   "source": []
  }
 ],
 "metadata": {
  "instance_type": "ml.t3.medium",
  "kernelspec": {
   "name": "python3",
   "language": "python",
   "display_name": "Python 3 (ipykernel)"
  },
  "language_info": {
   "codemirror_mode": {
    "name": "ipython",
    "version": 3
   },
   "file_extension": ".py",
   "mimetype": "text/x-python",
   "name": "python",
   "nbconvert_exporter": "python",
   "pygments_lexer": "ipython3",
   "version": "3.7.10"
  }
 },
 "nbformat": 4,
 "nbformat_minor": 4
}